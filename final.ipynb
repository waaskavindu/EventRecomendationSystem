{
 "cells": [
  {
   "cell_type": "code",
   "execution_count": 1,
   "id": "caceb46c",
   "metadata": {},
   "outputs": [
    {
     "data": {
      "text/plain": [
       "<firebase_admin.App at 0x15b800a9d30>"
      ]
     },
     "execution_count": 1,
     "metadata": {},
     "output_type": "execute_result"
    }
   ],
   "source": [
    "import firebase_admin\n",
    "from firebase_admin import credentials\n",
    "from sklearn.feature_extraction.text import CountVectorizer\n",
    "from sklearn.metrics.pairwise import cosine_similarity\n",
    "from firebase_admin import db\n",
    "import pandas as pd\n",
    "\n",
    "cred = credentials.Certificate('konnect-72976-firebase-adminsdk-m1xs2-8e5e7f5ec9.json')\n",
    "firebase_admin.initialize_app(cred, {\n",
    "    'databaseURL' : 'https://konnect-72976-default-rtdb.firebaseio.com/'\n",
    "})"
   ]
  },
  {
   "cell_type": "code",
   "execution_count": 24,
   "id": "f08efe9e",
   "metadata": {},
   "outputs": [
    {
     "name": "stdout",
     "output_type": "stream",
     "text": [
      "[2, 14, 4, 23, 6, 5, 17, 1, 40, 35, 74]\n"
     ]
    }
   ],
   "source": [
    "# Get a database reference to our posts\n",
    "ref = db.reference('/')\n",
    "# Read the data at the posts reference (this is a blocking operation)\n",
    "df = pd.DataFrame.from_dict(ref.get())\n",
    "important_features = []\n",
    "#Create a list of important columns for the recommendation engine\n",
    "columns = ['Location', 'Place', 'Artist', 'Genre', 'Day', 'Time of day', 'Organizer']\n",
    "if df[columns].isnull().values.any() == True:\n",
    "    print('Error in the dataset please validate')\n",
    "#Combine imported featured in to important_featured column\n",
    "def get_important_features(data):\n",
    "    for i in range(0, data.shape[0]):\n",
    "        important_features.append(data['Genre'][i]+','+data['Place'][i]+','+data['Artist'][i]+','+data['Location'][i]+','+data['Day'][i]+','+data['Time of day'][i]+','+data['Organizer'][i])\n",
    "    return important_features\n",
    "df['important_features'] = get_important_features(df)\n",
    "if df[columns].isnull().values.any() == True:\n",
    "    print('Error in dataset please validate')\n",
    "cm = CountVectorizer().fit_transform(df['important_features'])\n",
    "#Get the cosine similarity matrix from the count matrix\n",
    "cs = cosine_similarity(cm)\n",
    "scores = list(enumerate(cs[0]))\n",
    "sorted_score = sorted(scores, key = lambda x:x[1], reverse = True)\n",
    "sorted_score = sorted_score[1:]\n",
    "listFINAL=[]\n",
    "#sorted by gender and recommendation\n",
    "data = []\n",
    "data1 = []\n",
    "data2 = []\n",
    "data3 = []\n",
    "data4 = []\n",
    "data5 = []\n",
    "k = 0\n",
    "for item in sorted_score:\n",
    "    refZERO = db.reference(str(item[0]))\n",
    "    dataZERO=refZERO.get()\n",
    "    event_recommendations=dataZERO.get(\"Recommendations (1 - 5 stars)\")\n",
    "    if event_recommendations == '5':\n",
    "        data5.insert(k+1,item[0])\n",
    "    elif event_recommendations == '4':\n",
    "        data4.insert(k+1,item[0])\n",
    "    elif event_recommendations == '3':\n",
    "        data3.insert(k+1,item[0])\n",
    "    elif event_recommendations == '2':\n",
    "        data2.insert(k+1,item[0])\n",
    "    elif event_recommendations == '1':\n",
    "        data1.insert(k+1,item[0])\n",
    "    else :\n",
    "        print('weradi wage')\n",
    "    k = k+1\n",
    "    if k>10:\n",
    "        break\n",
    "#sorted based on recommendation\n",
    "data=data5+data4+data3+data2+data1\n",
    "#print(data)\n",
    "refUSER = db.reference(str(0))\n",
    "dataUSER=refUSER.get()\n",
    "userLocation=dataUSER.get('Location')\n",
    "#sorted by location with priority\n",
    "locationHigh=[]\n",
    "locationLow=[]\n",
    "k1=0\n",
    "for x in data:\n",
    "    refFIRST = db.reference(str(x))\n",
    "    dataFIRST=refFIRST.get()\n",
    "    location=dataFIRST.get(\"Location\")\n",
    "    if userLocation == location:\n",
    "        locationHigh.insert(k1,x)\n",
    "    else:\n",
    "        locationLow.insert(k1,x)\n",
    "    k1 = k1+1\n",
    "    if k1>10:\n",
    "        break\n",
    "final=locationHigh+locationLow\n",
    "print(final)"
   ]
  },
  {
   "cell_type": "code",
   "execution_count": null,
   "id": "7fc984b7",
   "metadata": {},
   "outputs": [],
   "source": []
  }
 ],
 "metadata": {
  "kernelspec": {
   "display_name": "Python 3",
   "language": "python",
   "name": "python3"
  },
  "language_info": {
   "codemirror_mode": {
    "name": "ipython",
    "version": 3
   },
   "file_extension": ".py",
   "mimetype": "text/x-python",
   "name": "python",
   "nbconvert_exporter": "python",
   "pygments_lexer": "ipython3",
   "version": "3.8.8"
  }
 },
 "nbformat": 4,
 "nbformat_minor": 5
}
